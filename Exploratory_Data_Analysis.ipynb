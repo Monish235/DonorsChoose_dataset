{
 "cells": [
  {
   "cell_type": "code",
   "execution_count": 1,
   "id": "4ce3b1a6",
   "metadata": {},
   "outputs": [],
   "source": [
    "#importing needed libraries\n",
    "%matplotlib inline\n",
    "import warnings\n",
    "warnings.filterwarnings(\"ignore\")\n",
    "\n",
    "import numpy as np\n",
    "import pandas as pd\n",
    "import matplotlib.pyplot as plt\n",
    "import seaborn as sns\n",
    "import re"
   ]
  },
  {
   "cell_type": "code",
   "execution_count": 2,
   "id": "a4fe267d",
   "metadata": {},
   "outputs": [],
   "source": [
    "#importing data files from the current directory using pandas\n",
    "\n",
    "project_data= pd.read_csv('train_data.csv')\n",
    "resource_data=pd.read_csv('resources.csv')"
   ]
  },
  {
   "cell_type": "code",
   "execution_count": 3,
   "id": "37a0caaf",
   "metadata": {},
   "outputs": [
    {
     "name": "stdout",
     "output_type": "stream",
     "text": [
      "Number of data point in project_data:  109248\n",
      "Number of features/columns in project_data:  17 \n",
      "\n",
      "Number of data point in resource_data:  1541272\n",
      "Number of features/columns in resource_data:  4 \n",
      "\n"
     ]
    }
   ],
   "source": [
    "#printing the shape of both project_data and resource_data\n",
    "\n",
    "print('Number of data point in project_data: ',project_data.shape[0])\n",
    "print('Number of features/columns in project_data: ',project_data.shape[1],'\\n')\n",
    "\n",
    "print('Number of data point in resource_data: ',resource_data.shape[0])\n",
    "print('Number of features/columns in resource_data: ',resource_data.shape[1],'\\n')"
   ]
  },
  {
   "cell_type": "code",
   "execution_count": 4,
   "id": "521b7447",
   "metadata": {},
   "outputs": [
    {
     "name": "stdout",
     "output_type": "stream",
     "text": [
      "<class 'pandas.core.frame.DataFrame'>\n",
      "RangeIndex: 109248 entries, 0 to 109247\n",
      "Data columns (total 17 columns):\n",
      " #   Column                                        Non-Null Count   Dtype \n",
      "---  ------                                        --------------   ----- \n",
      " 0   Unnamed: 0                                    109248 non-null  int64 \n",
      " 1   id                                            109248 non-null  object\n",
      " 2   teacher_id                                    109248 non-null  object\n",
      " 3   teacher_prefix                                109245 non-null  object\n",
      " 4   school_state                                  109248 non-null  object\n",
      " 5   project_submitted_datetime                    109248 non-null  object\n",
      " 6   project_grade_category                        109248 non-null  object\n",
      " 7   project_subject_categories                    109248 non-null  object\n",
      " 8   project_subject_subcategories                 109248 non-null  object\n",
      " 9   project_title                                 109248 non-null  object\n",
      " 10  project_essay_1                               109248 non-null  object\n",
      " 11  project_essay_2                               109248 non-null  object\n",
      " 12  project_essay_3                               3758 non-null    object\n",
      " 13  project_essay_4                               3758 non-null    object\n",
      " 14  project_resource_summary                      109248 non-null  object\n",
      " 15  teacher_number_of_previously_posted_projects  109248 non-null  int64 \n",
      " 16  project_is_approved                           109248 non-null  int64 \n",
      "dtypes: int64(3), object(14)\n",
      "memory usage: 14.2+ MB\n"
     ]
    }
   ],
   "source": [
    "#information about all the columns/features present in project_data\n",
    "project_data.info()"
   ]
  },
  {
   "cell_type": "code",
   "execution_count": 5,
   "id": "20a0b6ea",
   "metadata": {},
   "outputs": [
    {
     "name": "stdout",
     "output_type": "stream",
     "text": [
      "<class 'pandas.core.frame.DataFrame'>\n",
      "RangeIndex: 1541272 entries, 0 to 1541271\n",
      "Data columns (total 4 columns):\n",
      " #   Column       Non-Null Count    Dtype  \n",
      "---  ------       --------------    -----  \n",
      " 0   id           1541272 non-null  object \n",
      " 1   description  1540980 non-null  object \n",
      " 2   quantity     1541272 non-null  int64  \n",
      " 3   price        1541272 non-null  float64\n",
      "dtypes: float64(1), int64(1), object(2)\n",
      "memory usage: 47.0+ MB\n"
     ]
    }
   ],
   "source": [
    "#information about all the columns/features present in resource_data\n",
    "resource_data.info()"
   ]
  },
  {
   "cell_type": "code",
   "execution_count": 6,
   "id": "1bf510cc",
   "metadata": {},
   "outputs": [],
   "source": [
    "def univariate_barplots(data, col1, col2='project_is_approved',top=False):\n",
    "    \n",
    "    df = data.groupby(col1).agg(count=(col1, 'count')).reset_index().sort_values('count',ascending=False)\n",
    "    approved = data[data[col2]==1].groupby(col1).agg(approved=(col2,'count')).reset_index()\n",
    "    df = pd.merge(df,approved ,on=col1,how='inner')\n",
    "    df['avg'] = df['approved']/df['count']\n",
    "    \n",
    "    if top:\n",
    "        df=df.iloc[:top]\n",
    "    \n",
    "    pos = np.arange(len(df))\n",
    "    plt.figure(figsize=(20,5))\n",
    "    p1 = plt.bar(pos, df['count'].values)\n",
    "    p2 = plt.bar(pos, df['approved'].values)\n",
    "\n",
    "    plt.ylabel('Projects')\n",
    "    plt.title('% of projects aproved state wise')\n",
    "    plt.xticks(pos, list(df[col1].values))\n",
    "    plt.legend((p1[0], p2[0]), ('not accepted', 'accepted'))\n",
    "    plt.show()\n",
    "    \n",
    "    \n",
    "\n",
    "    print(df.head(5))\n",
    "    print(\"=\"*50)\n",
    "    print(df.tail(5))\n",
    "    "
   ]
  },
  {
   "cell_type": "markdown",
   "id": "5abf18d7",
   "metadata": {},
   "source": [
    "### 1.2.2 Univariate Analysis: school_state"
   ]
  },
  {
   "cell_type": "code",
   "execution_count": 7,
   "id": "1c4e4464",
   "metadata": {},
   "outputs": [
    {
     "data": {
      "image/png": "[encoded data removed]",
      "text/plain": [
       "<Figure size 1440x360 with 1 Axes>"
      ]
     },
     "metadata": {
      "needs_background": "light"
     },
     "output_type": "display_data"
    },
    {
     "name": "stdout",
     "output_type": "stream",
     "text": [
      "  school_state  count  approved       avg\n",
      "0           CA  15388     13205  0.858136\n",
      "1           TX   7396      6014  0.813142\n",
      "2           NY   7318      6291  0.859661\n",
      "3           FL   6185      5144  0.831690\n",
      "4           NC   5091      4353  0.855038\n",
      "==================================================\n",
      "   school_state  count  approved       avg\n",
      "46           RI    285       243  0.852632\n",
      "47           MT    245       200  0.816327\n",
      "48           ND    143       127  0.888112\n",
      "49           WY     98        82  0.836735\n",
      "50           VT     80        64  0.800000\n"
     ]
    }
   ],
   "source": [
    "univariate_barplots(project_data, 'school_state', 'project_is_approved')"
   ]
  },
  {
   "cell_type": "markdown",
   "id": "e2b58b81",
   "metadata": {},
   "source": [
    "__Every state is having more than 80% success rate in approval__"
   ]
  },
  {
   "cell_type": "markdown",
   "id": "67e63c16",
   "metadata": {},
   "source": [
    "### 1.2.2 Univariate Analysis: teacher_prefix"
   ]
  },
  {
   "cell_type": "code",
   "execution_count": 8,
   "id": "20a28ee0",
   "metadata": {},
   "outputs": [
    {
     "data": {
      "image/png": "[encoded data removed]",
      "text/plain": [
       "<Figure size 1440x360 with 1 Axes>"
      ]
     },
     "metadata": {
      "needs_background": "light"
     },
     "output_type": "display_data"
    },
    {
     "name": "stdout",
     "output_type": "stream",
     "text": [
      "  teacher_prefix  count  approved       avg\n",
      "0           Mrs.  57269     48997  0.855559\n",
      "1            Ms.  38955     32860  0.843537\n",
      "2            Mr.  10648      8960  0.841473\n",
      "3        Teacher   2360      1877  0.795339\n",
      "4            Dr.     13         9  0.692308\n",
      "==================================================\n",
      "  teacher_prefix  count  approved       avg\n",
      "0           Mrs.  57269     48997  0.855559\n",
      "1            Ms.  38955     32860  0.843537\n",
      "2            Mr.  10648      8960  0.841473\n",
      "3        Teacher   2360      1877  0.795339\n",
      "4            Dr.     13         9  0.692308\n"
     ]
    }
   ],
   "source": [
    "univariate_barplots(project_data, 'teacher_prefix', 'project_is_approved')"
   ]
  },
  {
   "cell_type": "markdown",
   "id": "0c566afc",
   "metadata": {},
   "source": [
    "**Observation**\n",
    "1. Dr. is a teacher_prefix on which very least number of project submissions made"
   ]
  },
  {
   "cell_type": "markdown",
   "id": "ad2186fb",
   "metadata": {},
   "source": [
    "### 1.2.3 Univariate Analysis: project_grade_category"
   ]
  },
  {
   "cell_type": "code",
   "execution_count": 9,
   "id": "e59fcae2",
   "metadata": {},
   "outputs": [
    {
     "data": {
      "image/png": "[encoded data removed]",
      "text/plain": [
       "<Figure size 1440x360 with 1 Axes>"
      ]
     },
     "metadata": {
      "needs_background": "light"
     },
     "output_type": "display_data"
    },
    {
     "name": "stdout",
     "output_type": "stream",
     "text": [
      "  project_grade_category  count  approved       avg\n",
      "0          Grades PreK-2  44225     37536  0.848751\n",
      "1             Grades 3-5  37137     31729  0.854377\n",
      "2             Grades 6-8  16923     14258  0.842522\n",
      "3            Grades 9-12  10963      9183  0.837636\n",
      "==================================================\n",
      "  project_grade_category  count  approved       avg\n",
      "0          Grades PreK-2  44225     37536  0.848751\n",
      "1             Grades 3-5  37137     31729  0.854377\n",
      "2             Grades 6-8  16923     14258  0.842522\n",
      "3            Grades 9-12  10963      9183  0.837636\n"
     ]
    }
   ],
   "source": [
    "univariate_barplots(project_data, 'project_grade_category', 'project_is_approved')"
   ]
  },
  {
   "cell_type": "markdown",
   "id": "f5c4849e",
   "metadata": {},
   "source": [
    "### 1.2.4 Univariate Analysis: project_subject_categories"
   ]
  },
  {
   "cell_type": "code",
   "execution_count": 10,
   "id": "062a270c",
   "metadata": {},
   "outputs": [],
   "source": [
    "catogories = list(project_data['project_subject_categories'].values)\n",
    "# remove special characters from list of strings python: https://stackoverflow.com/a/47301924/4084039\n",
    "\n",
    "# https://www.geeksforgeeks.org/removing-stop-words-nltk-python/\n",
    "# https://stackoverflow.com/questions/23669024/how-to-strip-a-specific-word-from-a-string\n",
    "# https://stackoverflow.com/questions/8270092/remove-all-whitespace-in-a-string-in-python\n",
    "cat_list = []\n",
    "for i in catogories:\n",
    "    temp = \"\"\n",
    "    # consider we have text like this \"Math & Science, Warmth, Care & Hunger\"\n",
    "    for j in i.split(','): # it will split it in three parts [\"Math & Science\", \"Warmth\", \"Care & Hunger\"]\n",
    "        if 'The' in j.split(): # this will split each of the catogory based on space \"Math & Science\"=> \"Math\",\"&\", \"Science\"\n",
    "            j=j.replace('The','') # if we have the words \"The\" we are going to replace it with ''(i.e removing 'The')\n",
    "        j = j.replace(' ','') # we are placeing all the ' '(space) with ''(empty) ex:\"Math & Science\"=>\"Math&Science\"\n",
    "        temp+=j.strip()+\" \" #\" abc \".strip() will return \"abc\", remove the trailing spaces\n",
    "        temp = temp.replace('&','_') # we are replacing the & value into \n",
    "    cat_list.append(temp.strip())"
   ]
  },
  {
   "cell_type": "code",
   "execution_count": 11,
   "id": "ef1c3ef4",
   "metadata": {},
   "outputs": [
    {
     "data": {
      "text/html": [
       "<div>\n",
       "<style scoped>\n",
       "    .dataframe tbody tr th:only-of-type {\n",
       "        vertical-align: middle;\n",
       "    }\n",
       "\n",
       "    .dataframe tbody tr th {\n",
       "        vertical-align: top;\n",
       "    }\n",
       "\n",
       "    .dataframe thead th {\n",
       "        text-align: right;\n",
       "    }\n",
       "</style>\n",
       "<table border=\"1\" class=\"dataframe\">\n",
       "  <thead>\n",
       "    <tr style=\"text-align: right;\">\n",
       "      <th></th>\n",
       "      <th>Unnamed: 0</th>\n",
       "      <th>id</th>\n",
       "      <th>teacher_id</th>\n",
       "      <th>teacher_prefix</th>\n",
       "      <th>school_state</th>\n",
       "      <th>project_submitted_datetime</th>\n",
       "      <th>project_grade_category</th>\n",
       "      <th>project_subject_subcategories</th>\n",
       "      <th>project_title</th>\n",
       "      <th>project_essay_1</th>\n",
       "      <th>project_essay_2</th>\n",
       "      <th>project_essay_3</th>\n",
       "      <th>project_essay_4</th>\n",
       "      <th>project_resource_summary</th>\n",
       "      <th>teacher_number_of_previously_posted_projects</th>\n",
       "      <th>project_is_approved</th>\n",
       "      <th>clean_categories</th>\n",
       "    </tr>\n",
       "  </thead>\n",
       "  <tbody>\n",
       "    <tr>\n",
       "      <th>0</th>\n",
       "      <td>160221</td>\n",
       "      <td>p253737</td>\n",
       "      <td>c90749f5d961ff158d4b4d1e7dc665fc</td>\n",
       "      <td>Mrs.</td>\n",
       "      <td>IN</td>\n",
       "      <td>2016-12-05 13:43:57</td>\n",
       "      <td>Grades PreK-2</td>\n",
       "      <td>ESL, Literacy</td>\n",
       "      <td>Educational Support for English Learners at Home</td>\n",
       "      <td>My students are English learners that are work...</td>\n",
       "      <td>\\\"The limits of your language are the limits o...</td>\n",
       "      <td>NaN</td>\n",
       "      <td>NaN</td>\n",
       "      <td>My students need opportunities to practice beg...</td>\n",
       "      <td>0</td>\n",
       "      <td>0</td>\n",
       "      <td>Literacy_Language</td>\n",
       "    </tr>\n",
       "    <tr>\n",
       "      <th>1</th>\n",
       "      <td>140945</td>\n",
       "      <td>p258326</td>\n",
       "      <td>897464ce9ddc600bced1151f324dd63a</td>\n",
       "      <td>Mr.</td>\n",
       "      <td>FL</td>\n",
       "      <td>2016-10-25 09:22:10</td>\n",
       "      <td>Grades 6-8</td>\n",
       "      <td>Civics &amp; Government, Team Sports</td>\n",
       "      <td>Wanted: Projector for Hungry Learners</td>\n",
       "      <td>Our students arrive to our school eager to lea...</td>\n",
       "      <td>The projector we need for our school is very c...</td>\n",
       "      <td>NaN</td>\n",
       "      <td>NaN</td>\n",
       "      <td>My students need a projector to help with view...</td>\n",
       "      <td>7</td>\n",
       "      <td>1</td>\n",
       "      <td>History_Civics Health_Sports</td>\n",
       "    </tr>\n",
       "  </tbody>\n",
       "</table>\n",
       "</div>"
      ],
      "text/plain": [
       "   Unnamed: 0       id                        teacher_id teacher_prefix  \\\n",
       "0      160221  p253737  c90749f5d961ff158d4b4d1e7dc665fc           Mrs.   \n",
       "1      140945  p258326  897464ce9ddc600bced1151f324dd63a            Mr.   \n",
       "\n",
       "  school_state project_submitted_datetime project_grade_category  \\\n",
       "0           IN        2016-12-05 13:43:57          Grades PreK-2   \n",
       "1           FL        2016-10-25 09:22:10             Grades 6-8   \n",
       "\n",
       "      project_subject_subcategories  \\\n",
       "0                     ESL, Literacy   \n",
       "1  Civics & Government, Team Sports   \n",
       "\n",
       "                                      project_title  \\\n",
       "0  Educational Support for English Learners at Home   \n",
       "1             Wanted: Projector for Hungry Learners   \n",
       "\n",
       "                                     project_essay_1  \\\n",
       "0  My students are English learners that are work...   \n",
       "1  Our students arrive to our school eager to lea...   \n",
       "\n",
       "                                     project_essay_2 project_essay_3  \\\n",
       "0  \\\"The limits of your language are the limits o...             NaN   \n",
       "1  The projector we need for our school is very c...             NaN   \n",
       "\n",
       "  project_essay_4                           project_resource_summary  \\\n",
       "0             NaN  My students need opportunities to practice beg...   \n",
       "1             NaN  My students need a projector to help with view...   \n",
       "\n",
       "   teacher_number_of_previously_posted_projects  project_is_approved  \\\n",
       "0                                             0                    0   \n",
       "1                                             7                    1   \n",
       "\n",
       "               clean_categories  \n",
       "0             Literacy_Language  \n",
       "1  History_Civics Health_Sports  "
      ]
     },
     "execution_count": 11,
     "metadata": {},
     "output_type": "execute_result"
    }
   ],
   "source": [
    "project_data['clean_categories'] = cat_list\n",
    "project_data.drop(['project_subject_categories'], axis=1, inplace=True)\n",
    "project_data.head(2)"
   ]
  },
  {
   "cell_type": "code",
   "execution_count": 12,
   "id": "7ca0bf64",
   "metadata": {},
   "outputs": [
    {
     "data": {
      "image/png": "[encoded data removed]",
      "text/plain": [
       "<Figure size 1440x360 with 1 Axes>"
      ]
     },
     "metadata": {
      "needs_background": "light"
     },
     "output_type": "display_data"
    },
    {
     "name": "stdout",
     "output_type": "stream",
     "text": [
      "                 clean_categories  count  approved       avg\n",
      "0               Literacy_Language  23655     20520  0.867470\n",
      "1                    Math_Science  17072     13991  0.819529\n",
      "2  Literacy_Language Math_Science  14636     12725  0.869432\n",
      "3                   Health_Sports  10177      8640  0.848973\n",
      "4                      Music_Arts   5180      4429  0.855019\n",
      "==================================================\n",
      "                    clean_categories  count  approved       avg\n",
      "15  History_Civics Literacy_Language   1421      1271  0.894441\n",
      "16        Health_Sports SpecialNeeds   1391      1215  0.873472\n",
      "17                Warmth Care_Hunger   1309      1212  0.925898\n",
      "18      Math_Science AppliedLearning   1220      1019  0.835246\n",
      "19      AppliedLearning Math_Science   1052       855  0.812738\n"
     ]
    }
   ],
   "source": [
    "univariate_barplots(project_data, 'clean_categories', 'project_is_approved',top=20)"
   ]
  },
  {
   "cell_type": "code",
   "execution_count": 13,
   "id": "53a6b111",
   "metadata": {},
   "outputs": [
    {
     "data": {
      "text/plain": [
       "Counter({'Literacy_Language': 52239,\n",
       "         'History_Civics': 5914,\n",
       "         'Health_Sports': 14223,\n",
       "         'Math_Science': 41421,\n",
       "         'SpecialNeeds': 13642,\n",
       "         'AppliedLearning': 12135,\n",
       "         'Music_Arts': 10293,\n",
       "         'Warmth': 1388,\n",
       "         'Care_Hunger': 1388})"
      ]
     },
     "execution_count": 13,
     "metadata": {},
     "output_type": "execute_result"
    }
   ],
   "source": [
    "# count of all the words in corpus python: https://stackoverflow.com/a/22898595/4084039\n",
    "from collections import Counter\n",
    "my_counter = Counter()\n",
    "for word in project_data['clean_categories'].values:\n",
    "    my_counter.update(word.split())\n",
    "    \n",
    "my_counter"
   ]
  },
  {
   "cell_type": "code",
   "execution_count": 14,
   "id": "2b9751fb",
   "metadata": {},
   "outputs": [
    {
     "data": {
      "image/png": "[encoded data removed]",
      "text/plain": [
       "<Figure size 1440x360 with 1 Axes>"
      ]
     },
     "metadata": {
      "needs_background": "light"
     },
     "output_type": "display_data"
    }
   ],
   "source": [
    "# dict sort by value python: https://stackoverflow.com/a/613218/4084039\n",
    "cat_dict = dict(my_counter)\n",
    "sorted_cat_dict = dict(sorted(cat_dict.items(), key=lambda kv: kv[1]))\n",
    "\n",
    "\n",
    "ind = np.arange(len(sorted_cat_dict))\n",
    "plt.figure(figsize=(20,5))\n",
    "p1 = plt.bar(ind, list(sorted_cat_dict.values()))\n",
    "\n",
    "plt.ylabel('Projects')\n",
    "plt.title('% of projects aproved state wise')\n",
    "plt.xticks(ind, list(sorted_cat_dict.keys()))\n",
    "plt.show()"
   ]
  },
  {
   "cell_type": "code",
   "execution_count": 15,
   "id": "345b3869",
   "metadata": {},
   "outputs": [
    {
     "name": "stdout",
     "output_type": "stream",
     "text": [
      "Warmth               :      1388\n",
      "Care_Hunger          :      1388\n",
      "History_Civics       :      5914\n",
      "Music_Arts           :     10293\n",
      "AppliedLearning      :     12135\n",
      "SpecialNeeds         :     13642\n",
      "Health_Sports        :     14223\n",
      "Math_Science         :     41421\n",
      "Literacy_Language    :     52239\n"
     ]
    }
   ],
   "source": [
    "for i, j in sorted_cat_dict.items():\n",
    "    print(\"{:20} :{:10}\".format(i,j))"
   ]
  },
  {
   "cell_type": "markdown",
   "id": "bf2dd129",
   "metadata": {},
   "source": [
    "### 1.2.5 Univariate Analysis: project_subject_subcategories"
   ]
  },
  {
   "cell_type": "code",
   "execution_count": 16,
   "id": "9f1462c0",
   "metadata": {},
   "outputs": [],
   "source": [
    "sub_catogories = list(project_data['project_subject_subcategories'].values)\n",
    "# remove special characters from list of strings python: https://stackoverflow.com/a/47301924/4084039\n",
    "\n",
    "# https://www.geeksforgeeks.org/removing-stop-words-nltk-python/\n",
    "# https://stackoverflow.com/questions/23669024/how-to-strip-a-specific-word-from-a-string\n",
    "# https://stackoverflow.com/questions/8270092/remove-all-whitespace-in-a-string-in-python\n",
    "\n",
    "sub_cat_list = []\n",
    "for i in sub_catogories:\n",
    "    temp = \"\"\n",
    "    # consider we have text like this \"Math & Science, Warmth, Care & Hunger\"\n",
    "    for j in i.split(','): # it will split it in three parts [\"Math & Science\", \"Warmth\", \"Care & Hunger\"]\n",
    "        if 'The' in j.split(): # this will split each of the catogory based on space \"Math & Science\"=> \"Math\",\"&\", \"Science\"\n",
    "            j=j.replace('The','') # if we have the words \"The\" we are going to replace it with ''(i.e removing 'The')\n",
    "        j = j.replace(' ','') # we are placeing all the ' '(space) with ''(empty) ex:\"Math & Science\"=>\"Math&Science\"\n",
    "        temp +=j.strip()+\" \"#\" abc \".strip() will return \"abc\", remove the trailing spaces\n",
    "        temp = temp.replace('&','_')\n",
    "    sub_cat_list.append(temp.strip())"
   ]
  },
  {
   "cell_type": "code",
   "execution_count": 17,
   "id": "d6a9308a",
   "metadata": {},
   "outputs": [
    {
     "data": {
      "text/html": [
       "<div>\n",
       "<style scoped>\n",
       "    .dataframe tbody tr th:only-of-type {\n",
       "        vertical-align: middle;\n",
       "    }\n",
       "\n",
       "    .dataframe tbody tr th {\n",
       "        vertical-align: top;\n",
       "    }\n",
       "\n",
       "    .dataframe thead th {\n",
       "        text-align: right;\n",
       "    }\n",
       "</style>\n",
       "<table border=\"1\" class=\"dataframe\">\n",
       "  <thead>\n",
       "    <tr style=\"text-align: right;\">\n",
       "      <th></th>\n",
       "      <th>Unnamed: 0</th>\n",
       "      <th>id</th>\n",
       "      <th>teacher_id</th>\n",
       "      <th>teacher_prefix</th>\n",
       "      <th>school_state</th>\n",
       "      <th>project_submitted_datetime</th>\n",
       "      <th>project_grade_category</th>\n",
       "      <th>project_title</th>\n",
       "      <th>project_essay_1</th>\n",
       "      <th>project_essay_2</th>\n",
       "      <th>project_essay_3</th>\n",
       "      <th>project_essay_4</th>\n",
       "      <th>project_resource_summary</th>\n",
       "      <th>teacher_number_of_previously_posted_projects</th>\n",
       "      <th>project_is_approved</th>\n",
       "      <th>clean_categories</th>\n",
       "      <th>clean_subcategories</th>\n",
       "    </tr>\n",
       "  </thead>\n",
       "  <tbody>\n",
       "    <tr>\n",
       "      <th>0</th>\n",
       "      <td>160221</td>\n",
       "      <td>p253737</td>\n",
       "      <td>c90749f5d961ff158d4b4d1e7dc665fc</td>\n",
       "      <td>Mrs.</td>\n",
       "      <td>IN</td>\n",
       "      <td>2016-12-05 13:43:57</td>\n",
       "      <td>Grades PreK-2</td>\n",
       "      <td>Educational Support for English Learners at Home</td>\n",
       "      <td>My students are English learners that are work...</td>\n",
       "      <td>\\\"The limits of your language are the limits o...</td>\n",
       "      <td>NaN</td>\n",
       "      <td>NaN</td>\n",
       "      <td>My students need opportunities to practice beg...</td>\n",
       "      <td>0</td>\n",
       "      <td>0</td>\n",
       "      <td>Literacy_Language</td>\n",
       "      <td>ESL Literacy</td>\n",
       "    </tr>\n",
       "    <tr>\n",
       "      <th>1</th>\n",
       "      <td>140945</td>\n",
       "      <td>p258326</td>\n",
       "      <td>897464ce9ddc600bced1151f324dd63a</td>\n",
       "      <td>Mr.</td>\n",
       "      <td>FL</td>\n",
       "      <td>2016-10-25 09:22:10</td>\n",
       "      <td>Grades 6-8</td>\n",
       "      <td>Wanted: Projector for Hungry Learners</td>\n",
       "      <td>Our students arrive to our school eager to lea...</td>\n",
       "      <td>The projector we need for our school is very c...</td>\n",
       "      <td>NaN</td>\n",
       "      <td>NaN</td>\n",
       "      <td>My students need a projector to help with view...</td>\n",
       "      <td>7</td>\n",
       "      <td>1</td>\n",
       "      <td>History_Civics Health_Sports</td>\n",
       "      <td>Civics_Government TeamSports</td>\n",
       "    </tr>\n",
       "  </tbody>\n",
       "</table>\n",
       "</div>"
      ],
      "text/plain": [
       "   Unnamed: 0       id                        teacher_id teacher_prefix  \\\n",
       "0      160221  p253737  c90749f5d961ff158d4b4d1e7dc665fc           Mrs.   \n",
       "1      140945  p258326  897464ce9ddc600bced1151f324dd63a            Mr.   \n",
       "\n",
       "  school_state project_submitted_datetime project_grade_category  \\\n",
       "0           IN        2016-12-05 13:43:57          Grades PreK-2   \n",
       "1           FL        2016-10-25 09:22:10             Grades 6-8   \n",
       "\n",
       "                                      project_title  \\\n",
       "0  Educational Support for English Learners at Home   \n",
       "1             Wanted: Projector for Hungry Learners   \n",
       "\n",
       "                                     project_essay_1  \\\n",
       "0  My students are English learners that are work...   \n",
       "1  Our students arrive to our school eager to lea...   \n",
       "\n",
       "                                     project_essay_2 project_essay_3  \\\n",
       "0  \\\"The limits of your language are the limits o...             NaN   \n",
       "1  The projector we need for our school is very c...             NaN   \n",
       "\n",
       "  project_essay_4                           project_resource_summary  \\\n",
       "0             NaN  My students need opportunities to practice beg...   \n",
       "1             NaN  My students need a projector to help with view...   \n",
       "\n",
       "   teacher_number_of_previously_posted_projects  project_is_approved  \\\n",
       "0                                             0                    0   \n",
       "1                                             7                    1   \n",
       "\n",
       "               clean_categories           clean_subcategories  \n",
       "0             Literacy_Language                  ESL Literacy  \n",
       "1  History_Civics Health_Sports  Civics_Government TeamSports  "
      ]
     },
     "execution_count": 17,
     "metadata": {},
     "output_type": "execute_result"
    }
   ],
   "source": [
    "project_data['clean_subcategories'] = sub_cat_list\n",
    "project_data.drop(['project_subject_subcategories'], axis=1, inplace=True)\n",
    "project_data.head(2)"
   ]
  },
  {
   "cell_type": "code",
   "execution_count": 18,
   "id": "c2129496",
   "metadata": {},
   "outputs": [
    {
     "data": {
      "image/png": "[encoded data removed]",
      "text/plain": [
       "<Figure size 1440x360 with 1 Axes>"
      ]
     },
     "metadata": {
      "needs_background": "light"
     },
     "output_type": "display_data"
    },
    {
     "name": "stdout",
     "output_type": "stream",
     "text": [
      "              clean_subcategories  count  approved       avg\n",
      "0                        Literacy   9486      8371  0.882458\n",
      "1            Literacy Mathematics   8325      7260  0.872072\n",
      "2  Literature_Writing Mathematics   5923      5140  0.867803\n",
      "3     Literacy Literature_Writing   5571      4823  0.865733\n",
      "4                     Mathematics   5379      4385  0.815207\n",
      "==================================================\n",
      "                   clean_subcategories  count  approved       avg\n",
      "45       EnvironmentalScience Literacy    444       389  0.876126\n",
      "46                                 ESL    421       349  0.828979\n",
      "47                  College_CareerPrep    421       343  0.814727\n",
      "48  AppliedSciences Literature_Writing    420       361  0.859524\n",
      "49  AppliedSciences College_CareerPrep    405       330  0.814815\n"
     ]
    }
   ],
   "source": [
    "univariate_barplots(project_data, 'clean_subcategories', 'project_is_approved', top=50)"
   ]
  },
  {
   "cell_type": "code",
   "execution_count": 19,
   "id": "ea7e50d7",
   "metadata": {},
   "outputs": [],
   "source": [
    "# count of all the words in corpus python: https://stackoverflow.com/a/22898595/4084039\n",
    "from collections import Counter\n",
    "my_counter = Counter()\n",
    "for word in project_data['clean_subcategories'].values:\n",
    "    my_counter.update(word.split())"
   ]
  },
  {
   "cell_type": "code",
   "execution_count": 20,
   "id": "560c6345",
   "metadata": {},
   "outputs": [
    {
     "data": {
      "image/png": "[encoded data removed]",
      "text/plain": [
       "<Figure size 1440x360 with 1 Axes>"
      ]
     },
     "metadata": {
      "needs_background": "light"
     },
     "output_type": "display_data"
    }
   ],
   "source": [
    "# dict sort by value python: https://stackoverflow.com/a/613218/4084039\n",
    "sub_cat_dict = dict(my_counter)\n",
    "sorted_sub_cat_dict = dict(sorted(sub_cat_dict.items(), key=lambda kv: kv[1]))\n",
    "\n",
    "\n",
    "ind = np.arange(len(sorted_sub_cat_dict))\n",
    "plt.figure(figsize=(20,5))\n",
    "p1 = plt.bar(ind, list(sorted_sub_cat_dict.values()))\n",
    "\n",
    "plt.ylabel('Projects')\n",
    "plt.title('% of projects aproved state wise')\n",
    "plt.xticks(ind, list(sorted_sub_cat_dict.keys()))\n",
    "plt.show()"
   ]
  },
  {
   "cell_type": "code",
   "execution_count": 21,
   "id": "5e069a3d",
   "metadata": {},
   "outputs": [
    {
     "name": "stdout",
     "output_type": "stream",
     "text": [
      "Economics            :       269\n",
      "CommunityService     :       441\n",
      "FinancialLiteracy    :       568\n",
      "ParentInvolvement    :       677\n",
      "Extracurricular      :       810\n",
      "Civics_Government    :       815\n",
      "ForeignLanguages     :       890\n",
      "NutritionEducation   :      1355\n",
      "Warmth               :      1388\n",
      "Care_Hunger          :      1388\n",
      "SocialSciences       :      1920\n",
      "PerformingArts       :      1961\n",
      "CharacterEducation   :      2065\n",
      "TeamSports           :      2192\n",
      "Other                :      2372\n",
      "College_CareerPrep   :      2568\n",
      "Music                :      3145\n",
      "History_Geography    :      3171\n",
      "Health_LifeScience   :      4235\n",
      "EarlyDevelopment     :      4254\n",
      "ESL                  :      4367\n",
      "Gym_Fitness          :      4509\n",
      "EnvironmentalScience :      5591\n",
      "VisualArts           :      6278\n",
      "Health_Wellness      :     10234\n",
      "AppliedSciences      :     10816\n",
      "SpecialNeeds         :     13642\n",
      "Literature_Writing   :     22179\n",
      "Mathematics          :     28074\n",
      "Literacy             :     33700\n"
     ]
    }
   ],
   "source": [
    "for i, j in sorted_sub_cat_dict.items():\n",
    "    print(\"{:20} :{:10}\".format(i,j))"
   ]
  },
  {
   "cell_type": "markdown",
   "id": "56f7d942",
   "metadata": {},
   "source": [
    "### 1.2.7 Univariate Analysis: Text features (Project Essay's)"
   ]
  },
  {
   "cell_type": "code",
   "execution_count": 22,
   "id": "389514e7",
   "metadata": {},
   "outputs": [
    {
     "data": {
      "image/png": "[encoded data removed]",
      "text/plain": [
       "<Figure size 1440x360 with 1 Axes>"
      ]
     },
     "metadata": {
      "needs_background": "light"
     },
     "output_type": "display_data"
    }
   ],
   "source": [
    "#How to calculate number of words in a string in DataFrame: https://stackoverflow.com/a/37483537/4084039\n",
    "word_count = project_data['project_title'].str.split().apply(len).value_counts()\n",
    "word_dict = dict(word_count)\n",
    "word_dict = dict(sorted(word_dict.items(), key=lambda kv: kv[1]))\n",
    "\n",
    "\n",
    "ind = np.arange(len(word_dict))\n",
    "plt.figure(figsize=(20,5))\n",
    "p1 = plt.bar(ind, list(word_dict.values()))\n",
    "\n",
    "plt.ylabel('Numeber of projects')\n",
    "plt.title('Words for each title of the project')\n",
    "plt.xticks(ind, list(word_dict.keys()))\n",
    "plt.show()"
   ]
  },
  {
   "cell_type": "code",
   "execution_count": 23,
   "id": "9d67b88b",
   "metadata": {},
   "outputs": [],
   "source": [
    "approved_word_count = project_data[project_data['project_is_approved']==1]['project_title'].str.split().apply(len)\n",
    "approved_word_count = approved_word_count.values\n",
    "\n",
    "rejected_word_count = project_data[project_data['project_is_approved']==0]['project_title'].str.split().apply(len)\n",
    "rejected_word_count = rejected_word_count.values"
   ]
  },
  {
   "cell_type": "code",
   "execution_count": 24,
   "id": "c57d840b",
   "metadata": {},
   "outputs": [
    {
     "data": {
      "image/png": "[encoded data removed]",
      "text/plain": [
       "<Figure size 720x216 with 1 Axes>"
      ]
     },
     "metadata": {
      "needs_background": "light"
     },
     "output_type": "display_data"
    }
   ],
   "source": [
    "plt.figure(figsize=(10,3))\n",
    "sns.distplot(approved_word_count, hist=False, label=\"Approved Projects\")\n",
    "sns.distplot(rejected_word_count, hist=False, label=\"Not Approved Projects\")\n",
    "plt.legend()\n",
    "plt.show()"
   ]
  },
  {
   "cell_type": "markdown",
   "id": "ace821fd",
   "metadata": {},
   "source": [
    "### 1.2.8 Univariate Analysis: Cost per project"
   ]
  },
  {
   "cell_type": "code",
   "execution_count": 25,
   "id": "5ec29801",
   "metadata": {},
   "outputs": [
    {
     "data": {
      "text/html": [
       "<div>\n",
       "<style scoped>\n",
       "    .dataframe tbody tr th:only-of-type {\n",
       "        vertical-align: middle;\n",
       "    }\n",
       "\n",
       "    .dataframe tbody tr th {\n",
       "        vertical-align: top;\n",
       "    }\n",
       "\n",
       "    .dataframe thead th {\n",
       "        text-align: right;\n",
       "    }\n",
       "</style>\n",
       "<table border=\"1\" class=\"dataframe\">\n",
       "  <thead>\n",
       "    <tr style=\"text-align: right;\">\n",
       "      <th></th>\n",
       "      <th>id</th>\n",
       "      <th>description</th>\n",
       "      <th>quantity</th>\n",
       "      <th>price</th>\n",
       "    </tr>\n",
       "  </thead>\n",
       "  <tbody>\n",
       "    <tr>\n",
       "      <th>0</th>\n",
       "      <td>p233245</td>\n",
       "      <td>LC652 - Lakeshore Double-Space Mobile Drying Rack</td>\n",
       "      <td>1</td>\n",
       "      <td>149.00</td>\n",
       "    </tr>\n",
       "    <tr>\n",
       "      <th>1</th>\n",
       "      <td>p069063</td>\n",
       "      <td>Bouncy Bands for Desks (Blue support pipes)</td>\n",
       "      <td>3</td>\n",
       "      <td>14.95</td>\n",
       "    </tr>\n",
       "  </tbody>\n",
       "</table>\n",
       "</div>"
      ],
      "text/plain": [
       "        id                                        description  quantity  \\\n",
       "0  p233245  LC652 - Lakeshore Double-Space Mobile Drying Rack         1   \n",
       "1  p069063        Bouncy Bands for Desks (Blue support pipes)         3   \n",
       "\n",
       "    price  \n",
       "0  149.00  \n",
       "1   14.95  "
      ]
     },
     "execution_count": 25,
     "metadata": {},
     "output_type": "execute_result"
    }
   ],
   "source": [
    "# we get the cost of the project using resource.csv file\n",
    "resource_data.head(2)"
   ]
  },
  {
   "cell_type": "code",
   "execution_count": 26,
   "id": "450907eb",
   "metadata": {},
   "outputs": [
    {
     "data": {
      "text/html": [
       "<div>\n",
       "<style scoped>\n",
       "    .dataframe tbody tr th:only-of-type {\n",
       "        vertical-align: middle;\n",
       "    }\n",
       "\n",
       "    .dataframe tbody tr th {\n",
       "        vertical-align: top;\n",
       "    }\n",
       "\n",
       "    .dataframe thead th {\n",
       "        text-align: right;\n",
       "    }\n",
       "</style>\n",
       "<table border=\"1\" class=\"dataframe\">\n",
       "  <thead>\n",
       "    <tr style=\"text-align: right;\">\n",
       "      <th></th>\n",
       "      <th>id</th>\n",
       "      <th>price</th>\n",
       "      <th>quantity</th>\n",
       "    </tr>\n",
       "  </thead>\n",
       "  <tbody>\n",
       "    <tr>\n",
       "      <th>0</th>\n",
       "      <td>p000001</td>\n",
       "      <td>459.56</td>\n",
       "      <td>7</td>\n",
       "    </tr>\n",
       "    <tr>\n",
       "      <th>1</th>\n",
       "      <td>p000002</td>\n",
       "      <td>515.89</td>\n",
       "      <td>21</td>\n",
       "    </tr>\n",
       "  </tbody>\n",
       "</table>\n",
       "</div>"
      ],
      "text/plain": [
       "        id   price  quantity\n",
       "0  p000001  459.56         7\n",
       "1  p000002  515.89        21"
      ]
     },
     "execution_count": 26,
     "metadata": {},
     "output_type": "execute_result"
    }
   ],
   "source": [
    "# https://stackoverflow.com/questions/22407798/how-to-reset-a-dataframes-indexes-for-all-groups-in-one-step\n",
    "price_data = resource_data.groupby('id').agg({'price':'sum', 'quantity':'sum'}).reset_index()\n",
    "price_data.head(2)"
   ]
  },
  {
   "cell_type": "code",
   "execution_count": 27,
   "id": "8669445d",
   "metadata": {},
   "outputs": [],
   "source": [
    "# join two dataframes in python: \n",
    "project_data = pd.merge(project_data, price_data, on='id', how='left')"
   ]
  },
  {
   "cell_type": "code",
   "execution_count": 28,
   "id": "ecad1654",
   "metadata": {},
   "outputs": [],
   "source": [
    "approved_price = project_data[project_data['project_is_approved']==1]['price'].values\n",
    "\n",
    "rejected_price = project_data[project_data['project_is_approved']==0]['price'].values"
   ]
  },
  {
   "cell_type": "code",
   "execution_count": 29,
   "id": "3d3791c5",
   "metadata": {},
   "outputs": [
    {
     "data": {
      "image/png": "[encoded data removed]",
      "text/plain": [
       "<Figure size 720x216 with 1 Axes>"
      ]
     },
     "metadata": {
      "needs_background": "light"
     },
     "output_type": "display_data"
    }
   ],
   "source": [
    "plt.figure(figsize=(10,3))\n",
    "sns.distplot(approved_price, hist=False, label=\"Approved Projects\")\n",
    "sns.distplot(rejected_price, hist=False, label=\"Not Approved Projects\")\n",
    "plt.title('Cost per approved and not approved Projects')\n",
    "plt.xlabel('Cost of a project')\n",
    "plt.legend()\n",
    "plt.show()"
   ]
  },
  {
   "cell_type": "code",
   "execution_count": 30,
   "id": "73252002",
   "metadata": {},
   "outputs": [
    {
     "name": "stdout",
     "output_type": "stream",
     "text": [
      "+------------+-------------------+-----------------------+\n",
      "| Percentile | Approved Projects | Not Approved Projects |\n",
      "+------------+-------------------+-----------------------+\n",
      "|     0      |        0.66       |          1.97         |\n",
      "|     5      |       13.59       |          41.9         |\n",
      "|     10     |       33.88       |         73.67         |\n",
      "|     15     |        58.0       |         99.109        |\n",
      "|     20     |       77.38       |         118.56        |\n",
      "|     25     |       99.95       |        140.892        |\n",
      "|     30     |       116.68      |         162.23        |\n",
      "|     35     |      137.232      |        184.014        |\n",
      "|     40     |       157.0       |        208.632        |\n",
      "|     45     |      178.265      |        235.106        |\n",
      "|     50     |       198.99      |        263.145        |\n",
      "|     55     |       223.99      |         292.61        |\n",
      "|     60     |       255.63      |        325.144        |\n",
      "|     65     |      285.412      |         362.39        |\n",
      "|     70     |      321.225      |         399.99        |\n",
      "|     75     |      366.075      |        449.945        |\n",
      "|     80     |       411.67      |        519.282        |\n",
      "|     85     |       479.0       |        618.276        |\n",
      "|     90     |       593.11      |        739.356        |\n",
      "|     95     |      801.598      |        992.486        |\n",
      "|    100     |       9999.0      |         9999.0        |\n",
      "+------------+-------------------+-----------------------+\n"
     ]
    }
   ],
   "source": [
    "# http://zetcode.com/python/prettytable/\n",
    "from prettytable import PrettyTable\n",
    "\n",
    "x = PrettyTable()\n",
    "x.field_names = [\"Percentile\", \"Approved Projects\", \"Not Approved Projects\"]\n",
    "\n",
    "for i in range(0,101,5):\n",
    "    x.add_row([i,np.round(np.percentile(approved_price,i), 3), np.round(np.percentile(rejected_price,i), 3)])\n",
    "print(x)"
   ]
  },
  {
   "cell_type": "markdown",
   "id": "cfcc29e0",
   "metadata": {},
   "source": [
    "<h3><font color='black'>1.2.9 Univariate Analysis: teacher_number_of_previously_posted_projects</font></h3>"
   ]
  },
  {
   "cell_type": "code",
   "execution_count": 31,
   "id": "d6e03996",
   "metadata": {},
   "outputs": [
    {
     "name": "stdout",
     "output_type": "stream",
     "text": [
      "<class 'pandas.core.frame.DataFrame'>\n",
      "Int64Index: 109248 entries, 0 to 109247\n",
      "Data columns (total 19 columns):\n",
      " #   Column                                        Non-Null Count   Dtype  \n",
      "---  ------                                        --------------   -----  \n",
      " 0   Unnamed: 0                                    109248 non-null  int64  \n",
      " 1   id                                            109248 non-null  object \n",
      " 2   teacher_id                                    109248 non-null  object \n",
      " 3   teacher_prefix                                109245 non-null  object \n",
      " 4   school_state                                  109248 non-null  object \n",
      " 5   project_submitted_datetime                    109248 non-null  object \n",
      " 6   project_grade_category                        109248 non-null  object \n",
      " 7   project_title                                 109248 non-null  object \n",
      " 8   project_essay_1                               109248 non-null  object \n",
      " 9   project_essay_2                               109248 non-null  object \n",
      " 10  project_essay_3                               3758 non-null    object \n",
      " 11  project_essay_4                               3758 non-null    object \n",
      " 12  project_resource_summary                      109248 non-null  object \n",
      " 13  teacher_number_of_previously_posted_projects  109248 non-null  int64  \n",
      " 14  project_is_approved                           109248 non-null  int64  \n",
      " 15  clean_categories                              109248 non-null  object \n",
      " 16  clean_subcategories                           109248 non-null  object \n",
      " 17  price                                         109248 non-null  float64\n",
      " 18  quantity                                      109248 non-null  int64  \n",
      "dtypes: float64(1), int64(4), object(14)\n",
      "memory usage: 16.7+ MB\n"
     ]
    }
   ],
   "source": [
    "project_data.info()"
   ]
  },
  {
   "cell_type": "code",
   "execution_count": 32,
   "id": "b8b77bf5",
   "metadata": {},
   "outputs": [
    {
     "data": {
      "text/plain": [
       "array([7, 4, 1, ..., 3, 0, 0], dtype=int64)"
      ]
     },
     "execution_count": 32,
     "metadata": {},
     "output_type": "execute_result"
    }
   ],
   "source": [
    "approved_price = project_data[project_data['project_is_approved']==1]['teacher_number_of_previously_posted_projects'].values\n",
    "\n",
    "rejected_price = project_data[project_data['project_is_approved']==0]['teacher_number_of_previously_posted_projects'].values\n",
    "approved_price"
   ]
  },
  {
   "cell_type": "code",
   "execution_count": 33,
   "id": "1feafe77",
   "metadata": {},
   "outputs": [
    {
     "data": {
      "image/png": "[encoded data removed]",
      "text/plain": [
       "<Figure size 720x216 with 1 Axes>"
      ]
     },
     "metadata": {
      "needs_background": "light"
     },
     "output_type": "display_data"
    }
   ],
   "source": [
    "plt.figure(figsize=(10,3))\n",
    "sns.distplot(approved_price, hist=False, label=\"Approved Projects\")\n",
    "sns.distplot(rejected_price, hist=False, label=\"Not Approved Projects\")\n",
    "plt.title('Cost per approved and not approved Projects')\n",
    "plt.xlabel('Cost of a project')\n",
    "plt.legend()\n",
    "plt.show()"
   ]
  },
  {
   "cell_type": "code",
   "execution_count": 34,
   "id": "3ee98b72",
   "metadata": {},
   "outputs": [
    {
     "name": "stdout",
     "output_type": "stream",
     "text": [
      "+------------+-------------------+-----------------------+\n",
      "| Percentile | Approved Projects | Not Approved Projects |\n",
      "+------------+-------------------+-----------------------+\n",
      "|     0      |        0.0        |          0.0          |\n",
      "|     5      |        0.0        |          0.0          |\n",
      "|     10     |        0.0        |          0.0          |\n",
      "|     15     |        0.0        |          0.0          |\n",
      "|     20     |        0.0        |          0.0          |\n",
      "|     25     |        0.0        |          0.0          |\n",
      "|     30     |        1.0        |          0.0          |\n",
      "|     35     |        1.0        |          1.0          |\n",
      "|     40     |        1.0        |          1.0          |\n",
      "|     45     |        2.0        |          1.0          |\n",
      "|     50     |        2.0        |          2.0          |\n",
      "|     55     |        3.0        |          2.0          |\n",
      "|     60     |        4.0        |          3.0          |\n",
      "|     65     |        5.0        |          3.0          |\n",
      "|     70     |        7.0        |          4.0          |\n",
      "|     75     |        9.0        |          6.0          |\n",
      "|     80     |        13.0       |          8.0          |\n",
      "|     85     |        19.0       |          11.0         |\n",
      "|     90     |        30.0       |          17.0         |\n",
      "|     95     |        57.0       |          31.0         |\n",
      "|    100     |       451.0       |         345.0         |\n",
      "+------------+-------------------+-----------------------+\n"
     ]
    }
   ],
   "source": [
    "# http://zetcode.com/python/prettytable/\n",
    "from prettytable import PrettyTable\n",
    "\n",
    "x = PrettyTable()\n",
    "x.field_names = [\"Percentile\", \"Approved Projects\", \"Not Approved Projects\"]\n",
    "\n",
    "for i in range(0,101,5):\n",
    "    x.add_row([i,np.round(np.percentile(approved_price,i), 3), np.round(np.percentile(rejected_price,i), 3)])\n",
    "print(x)"
   ]
  },
  {
   "cell_type": "markdown",
   "id": "a10e78a4",
   "metadata": {},
   "source": [
    "<h3><font color='black'>1.2.10 Univariate Analysis: project_resource_summary</font></h3>"
   ]
  },
  {
   "cell_type": "code",
   "execution_count": 35,
   "id": "7b087854",
   "metadata": {},
   "outputs": [
    {
     "data": {
      "text/plain": [
       "0         My students need opportunities to practice beg...\n",
       "1         My students need a projector to help with view...\n",
       "2         My students need shine guards, athletic socks,...\n",
       "3         My students need to engage in Reading and Math...\n",
       "4         My students need hands on practice in mathemat...\n",
       "                                ...                        \n",
       "109243    My students need these privacy partitions to h...\n",
       "109244    My students need two iPad's and protective cas...\n",
       "109245    My students need giant comfy pillows in order ...\n",
       "109246    My students need flexible seating options: bea...\n",
       "109247    My students need opportunities to work with te...\n",
       "Name: project_resource_summary, Length: 109248, dtype: object"
      ]
     },
     "execution_count": 35,
     "metadata": {},
     "output_type": "execute_result"
    }
   ],
   "source": [
    "project_data.project_resource_summary"
   ]
  },
  {
   "cell_type": "code",
   "execution_count": 36,
   "id": "e54d3627",
   "metadata": {},
   "outputs": [],
   "source": [
    "#https://www.geeksforgeeks.org/python-check-if-string-contains-any-number/\n",
    "\n",
    "project_data['digit_in_summary']=[ 1 if bool(re.search(r'\\d',i)) else 0 for i in project_data.project_resource_summary]"
   ]
  },
  {
   "cell_type": "code",
   "execution_count": 37,
   "id": "ca574347",
   "metadata": {},
   "outputs": [
    {
     "data": {
      "text/html": [
       "<div>\n",
       "<style scoped>\n",
       "    .dataframe tbody tr th:only-of-type {\n",
       "        vertical-align: middle;\n",
       "    }\n",
       "\n",
       "    .dataframe tbody tr th {\n",
       "        vertical-align: top;\n",
       "    }\n",
       "\n",
       "    .dataframe thead th {\n",
       "        text-align: right;\n",
       "    }\n",
       "</style>\n",
       "<table border=\"1\" class=\"dataframe\">\n",
       "  <thead>\n",
       "    <tr style=\"text-align: right;\">\n",
       "      <th></th>\n",
       "      <th>project_resource_summary</th>\n",
       "      <th>digit_in_summary</th>\n",
       "    </tr>\n",
       "  </thead>\n",
       "  <tbody>\n",
       "    <tr>\n",
       "      <th>12</th>\n",
       "      <td>My students need 3D and 4D life science activi...</td>\n",
       "      <td>1</td>\n",
       "    </tr>\n",
       "    <tr>\n",
       "      <th>14</th>\n",
       "      <td>My students need 5 tablets for our classroom t...</td>\n",
       "      <td>1</td>\n",
       "    </tr>\n",
       "    <tr>\n",
       "      <th>16</th>\n",
       "      <td>My students need 2 LeapPad that will engage th...</td>\n",
       "      <td>1</td>\n",
       "    </tr>\n",
       "    <tr>\n",
       "      <th>19</th>\n",
       "      <td>My students need 7 Hokki stools to encourage a...</td>\n",
       "      <td>1</td>\n",
       "    </tr>\n",
       "    <tr>\n",
       "      <th>25</th>\n",
       "      <td>My students need the learning centers and mult...</td>\n",
       "      <td>1</td>\n",
       "    </tr>\n",
       "    <tr>\n",
       "      <th>...</th>\n",
       "      <td>...</td>\n",
       "      <td>...</td>\n",
       "    </tr>\n",
       "    <tr>\n",
       "      <th>109182</th>\n",
       "      <td>My students need music stands for their guitar...</td>\n",
       "      <td>1</td>\n",
       "    </tr>\n",
       "    <tr>\n",
       "      <th>109193</th>\n",
       "      <td>My students need access to technology in order...</td>\n",
       "      <td>1</td>\n",
       "    </tr>\n",
       "    <tr>\n",
       "      <th>109211</th>\n",
       "      <td>My students need the basketball backboard to e...</td>\n",
       "      <td>1</td>\n",
       "    </tr>\n",
       "    <tr>\n",
       "      <th>109232</th>\n",
       "      <td>My students need a set of 5 opinion picture bo...</td>\n",
       "      <td>1</td>\n",
       "    </tr>\n",
       "    <tr>\n",
       "      <th>109247</th>\n",
       "      <td>My students need opportunities to work with te...</td>\n",
       "      <td>1</td>\n",
       "    </tr>\n",
       "  </tbody>\n",
       "</table>\n",
       "<p>15756 rows × 2 columns</p>\n",
       "</div>"
      ],
      "text/plain": [
       "                                 project_resource_summary  digit_in_summary\n",
       "12      My students need 3D and 4D life science activi...                 1\n",
       "14      My students need 5 tablets for our classroom t...                 1\n",
       "16      My students need 2 LeapPad that will engage th...                 1\n",
       "19      My students need 7 Hokki stools to encourage a...                 1\n",
       "25      My students need the learning centers and mult...                 1\n",
       "...                                                   ...               ...\n",
       "109182  My students need music stands for their guitar...                 1\n",
       "109193  My students need access to technology in order...                 1\n",
       "109211  My students need the basketball backboard to e...                 1\n",
       "109232  My students need a set of 5 opinion picture bo...                 1\n",
       "109247  My students need opportunities to work with te...                 1\n",
       "\n",
       "[15756 rows x 2 columns]"
      ]
     },
     "execution_count": 37,
     "metadata": {},
     "output_type": "execute_result"
    }
   ],
   "source": [
    "project_data[['project_resource_summary','digit_in_summary']][project_data['digit_in_summary']==1]"
   ]
  },
  {
   "cell_type": "code",
   "execution_count": 38,
   "id": "8c4ef94a",
   "metadata": {},
   "outputs": [
    {
     "data": {
      "text/plain": [
       "array([0, 0, 0, ..., 0, 0, 1], dtype=int64)"
      ]
     },
     "execution_count": 38,
     "metadata": {},
     "output_type": "execute_result"
    }
   ],
   "source": [
    "approved_price = project_data[project_data['project_is_approved']==1]['digit_in_summary'].values\n",
    "\n",
    "rejected_price = project_data[project_data['project_is_approved']==0]['digit_in_summary'].values\n",
    "approved_price"
   ]
  },
  {
   "cell_type": "code",
   "execution_count": 39,
   "id": "492cb145",
   "metadata": {},
   "outputs": [
    {
     "data": {
      "text/plain": [
       "Text(0.5, 0, 'digit_in_summary')"
      ]
     },
     "execution_count": 39,
     "metadata": {},
     "output_type": "execute_result"
    },
    {
     "data": {
      "image/png": "[encoded data removed]",
      "text/plain": [
       "<Figure size 360x216 with 1 Axes>"
      ]
     },
     "metadata": {
      "needs_background": "light"
     },
     "output_type": "display_data"
    }
   ],
   "source": [
    "plt.figure(figsize=(5,3))\n",
    "plt.title(\"Approved Projects\")\n",
    "sns.countplot(approved_price)\n",
    "plt.xlabel('digit_in_summary')"
   ]
  },
  {
   "cell_type": "code",
   "execution_count": 40,
   "id": "c4f8d546",
   "metadata": {},
   "outputs": [
    {
     "data": {
      "text/plain": [
       "Text(0.5, 0, 'digit_in_summary')"
      ]
     },
     "execution_count": 40,
     "metadata": {},
     "output_type": "execute_result"
    },
    {
     "data": {
      "image/png": "[encoded data removed]",
      "text/plain": [
       "<Figure size 360x216 with 1 Axes>"
      ]
     },
     "metadata": {
      "needs_background": "light"
     },
     "output_type": "display_data"
    }
   ],
   "source": [
    "plt.figure(figsize=(5,3))\n",
    "plt.title(\"Not Approved Projects\")\n",
    "sns.countplot(rejected_price)\n",
    "plt.xlabel('digit_in_summary')"
   ]
  },
  {
   "cell_type": "code",
   "execution_count": 41,
   "id": "b69c0afe",
   "metadata": {},
   "outputs": [],
   "source": [
    "#Feature digit_in_summary is not very important for the analysis so we can drop this feature\n",
    "project_data.drop(['digit_in_summary'],axis=1,inplace=True)"
   ]
  }
 ],
 "metadata": {
  "kernelspec": {
   "display_name": "Python 3",
   "language": "python",
   "name": "python3"
  },
  "language_info": {
   "codemirror_mode": {
    "name": "ipython",
    "version": 3
   },
   "file_extension": ".py",
   "mimetype": "text/x-python",
   "name": "python",
   "nbconvert_exporter": "python",
   "pygments_lexer": "ipython3",
   "version": "3.8.8"
  }
 },
 "nbformat": 4,
 "nbformat_minor": 5
}
